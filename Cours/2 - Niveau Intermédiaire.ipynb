{
 "cells": [
  {
   "cell_type": "markdown",
   "metadata": {},
   "source": [
    "# Python Learning - Niveau Intermédiaire"
   ]
  },
  {
   "cell_type": "markdown",
   "metadata": {},
   "source": [
    "## Table des Matières \n",
    "\n",
    "- 1 - OOPs (Object-Oriented Programming)\n",
    "- 2 - Data structures\n",
    "- 3 - Comprehensions\n",
    "- 4 - lambda functions\n",
    "- 5 - Map, filter\n",
    "- 6 - Collections\n",
    "- 7 - Args & **kwargs\n",
    "- 8 - Inheritance (Héritage)\n",
    "- 9 - PIP\n",
    "- 10 - Environments \n",
    "- 11 - Module\n",
    "- 12 - Asunc10 (Asynchronous Programming)\n",
    "\n",
    "---"
   ]
  },
  {
   "cell_type": "markdown",
   "metadata": {},
   "source": [
    "### 1 - OOP (Object-Oriented Programming) :"
   ]
  },
  {
   "cell_type": "markdown",
   "metadata": {},
   "source": [
    "La programmation orientée objet (POO) est un paradigme de programmation qui permet de concevoir des programmes en utilisant des objets. Les objets sont des instances de classes qui contiennent des données (attributs) et des méthodes (fonctions) pour interagir avec ces données."
   ]
  },
  {
   "cell_type": "code",
   "execution_count": 1,
   "metadata": {},
   "outputs": [
    {
     "name": "stdout",
     "output_type": "stream",
     "text": [
      "Hello, my name is Alice and I am 30 years old.\n"
     ]
    }
   ],
   "source": [
    "class Person:\n",
    "    def __init__(self, name, age):\n",
    "        self.name = name\n",
    "        self.age = age\n",
    "\n",
    "    def greet(self):\n",
    "        return f\"Hello, my name is {self.name} and I am {self.age} years old.\"\n",
    "\n",
    "person1 = Person(\"Alice\", 30)\n",
    "print(person1.greet())"
   ]
  },
  {
   "cell_type": "markdown",
   "metadata": {},
   "source": [
    "### 2 - Data structures"
   ]
  },
  {
   "cell_type": "markdown",
   "metadata": {},
   "source": [
    "Les structures de données sont des moyens de stocker et d'organiser des données de manière efficace. En Python, les structures de données courantes incluent les listes, les dictionnaires, les ensembles et les tuples."
   ]
  },
  {
   "cell_type": "code",
   "execution_count": 2,
   "metadata": {},
   "outputs": [],
   "source": [
    "# Liste\n",
    "my_list = [1, 2, 3]\n",
    "\n",
    "# Dictionnaire\n",
    "my_dict = {'name': 'John', 'age': 25}\n",
    "\n",
    "# Ensemble\n",
    "my_set = {1, 2, 3}\n",
    "\n",
    "# Tuple\n",
    "my_tuple = (4, 5, 6)"
   ]
  },
  {
   "cell_type": "markdown",
   "metadata": {},
   "source": [
    "### 3 - Comprehensions"
   ]
  },
  {
   "cell_type": "markdown",
   "metadata": {},
   "source": [
    "Les comprehensions sont une manière concise de créer des listes, des ensembles ou des dictionnaires en utilisant une syntaxe simplifiée."
   ]
  },
  {
   "cell_type": "code",
   "execution_count": 3,
   "metadata": {},
   "outputs": [],
   "source": [
    "# List Comprehension\n",
    "squares = [x ** 2 for x in range(1, 6)]\n",
    "\n",
    "# Dictionary Comprehension\n",
    "square_dict = {x: x ** 2 for x in range(1, 6)}\n",
    "\n",
    "# Set Comprehension\n",
    "square_set = {x ** 2 for x in range(1, 6)}"
   ]
  },
  {
   "cell_type": "markdown",
   "metadata": {},
   "source": [
    "### 4 - Lambda Function"
   ]
  },
  {
   "cell_type": "markdown",
   "metadata": {},
   "source": [
    " Les fonctions lambda, également appelées fonctions anonymes, sont des fonctions simples et sans nom. Elles sont souvent utilisées pour des opérations courtes et ponctuelles."
   ]
  },
  {
   "cell_type": "code",
   "execution_count": 4,
   "metadata": {},
   "outputs": [
    {
     "name": "stdout",
     "output_type": "stream",
     "text": [
      "5\n"
     ]
    }
   ],
   "source": [
    "add = lambda x, y: x + y\n",
    "print(add(2, 3))"
   ]
  },
  {
   "cell_type": "markdown",
   "metadata": {},
   "source": [
    "### 5 - Map et Filter"
   ]
  },
  {
   "cell_type": "markdown",
   "metadata": {},
   "source": [
    "```map``` et ```filter``` sont des fonctions intégrées qui permettent de transformer ou de filtrer des données en utilisant une fonction sur une séquence."
   ]
  },
  {
   "cell_type": "markdown",
   "metadata": {},
   "source": [
    "### 6 - Collections"
   ]
  },
  {
   "cell_type": "markdown",
   "metadata": {},
   "source": [
    "Le module collections fournit des structures de données supplémentaires, telles que des namedtuple, des deque et des defaultdict, qui sont utiles dans diverses situations."
   ]
  },
  {
   "cell_type": "code",
   "execution_count": 5,
   "metadata": {},
   "outputs": [],
   "source": [
    "from collections import namedtuple\n",
    "\n",
    "Point = namedtuple('Point', ['x', 'y'])\n",
    "p = Point(1, 2)"
   ]
  },
  {
   "cell_type": "markdown",
   "metadata": {},
   "source": [
    "### 7 - **Args & kwargs"
   ]
  },
  {
   "cell_type": "markdown",
   "metadata": {},
   "source": [
    "```*args``` et ```**kwargs``` sont des paramètres spéciaux dans les fonctions Python qui permettent de traiter un nombre variable d'arguments positionnels (*args) et d'arguments nommés (**kwargs)."
   ]
  },
  {
   "cell_type": "code",
   "execution_count": 6,
   "metadata": {},
   "outputs": [
    {
     "name": "stdout",
     "output_type": "stream",
     "text": [
      "arg1: value1\n",
      "args: ('value2',)\n",
      "kwarg1: value3\n",
      "kwargs: {'kwarg2': 'value4'}\n"
     ]
    }
   ],
   "source": [
    "def my_function(arg1, *args, kwarg1=None, **kwargs):\n",
    "    print(f\"arg1: {arg1}\")\n",
    "    print(f\"args: {args}\")\n",
    "    print(f\"kwarg1: {kwarg1}\")\n",
    "    print(f\"kwargs: {kwargs}\")\n",
    "\n",
    "my_function(\"value1\", \"value2\", kwarg1=\"value3\", kwarg2=\"value4\")"
   ]
  },
  {
   "cell_type": "markdown",
   "metadata": {},
   "source": [
    "### 8 - Heritance (Héritage)"
   ]
  },
  {
   "cell_type": "markdown",
   "metadata": {},
   "source": [
    "L'héritage est un concept de la programmation orientée objet qui permet de créer de nouvelles classes en se basant sur des classes existantes. La nouvelle classe hérite des attributs et des méthodes de la classe parente."
   ]
  },
  {
   "cell_type": "code",
   "execution_count": 7,
   "metadata": {},
   "outputs": [],
   "source": [
    "class Animal:\n",
    "    def speak(self):\n",
    "        pass\n",
    "\n",
    "class Dog(Animal):\n",
    "    def speak(self):\n",
    "        return \"Woof!\"\n",
    "\n",
    "class Cat(Animal):\n",
    "    def speak(self):\n",
    "        return \"Meow!\""
   ]
  },
  {
   "cell_type": "markdown",
   "metadata": {},
   "source": [
    "### 9 - PIP"
   ]
  },
  {
   "cell_type": "markdown",
   "metadata": {},
   "source": [
    "PIP est le gestionnaire de packages Python qui permet d'installer, mettre à jour et gérer des packages et des dépendances Python."
   ]
  },
  {
   "cell_type": "code",
   "execution_count": 16,
   "metadata": {},
   "outputs": [],
   "source": [
    "\n",
    "\n",
    "# Installation d'un paquet avec PIP : \n",
    "pip install package_name\n",
    "\n",
    "# Désistallation d'un paquet avec PIP : \n",
    "pip uninstall package_name\n",
    "\n",
    "# Installation d'un paquet avec PIP (avec un proxy): \n",
    "pip install package_name --proxy=http://proxy:port\n",
    "\n"
   ]
  },
  {
   "cell_type": "markdown",
   "metadata": {},
   "source": [
    "### 10 - Environments (Environnements)"
   ]
  },
  {
   "cell_type": "markdown",
   "metadata": {},
   "source": [
    "Les environnements Python, comme conda ou virtualenv, permettent d'isoler et de gérer les dépendances de vos projets. Ils vous permettent de travailler sur des projets distincts avec des ensembles de packages différents."
   ]
  },
  {
   "cell_type": "code",
   "execution_count": null,
   "metadata": {},
   "outputs": [],
   "source": [
    "# Installation de virtualenv\n",
    "pip install virtualenv\n",
    "\n",
    "# Création d'un environnement virtuel\n",
    "virtualenv myenv\n",
    "\n",
    "# Activation de l'environnement (sous Windows)\n",
    "myenv\\Scripts\\activate\n",
    "\n",
    "# Activation de l'environnement (sous macOS/Linux)\n",
    "source myenv/bin/activate"
   ]
  },
  {
   "cell_type": "markdown",
   "metadata": {},
   "source": [
    "### 11 - Module"
   ]
  },
  {
   "cell_type": "markdown",
   "metadata": {},
   "source": [
    " En Python, un module est un fichier contenant des définitions et des instructions Python. Vous pouvez importer des modules dans d'autres scripts pour réutiliser du code."
   ]
  },
  {
   "cell_type": "code",
   "execution_count": 20,
   "metadata": {},
   "outputs": [],
   "source": [
    "# Contenu de mymodule.py\n",
    "def greet(name):\n",
    "    return f\"Hello, {name}!\""
   ]
  },
  {
   "cell_type": "code",
   "execution_count": null,
   "metadata": {},
   "outputs": [],
   "source": [
    "# Contenu de main.py\n",
    "import mymodule\n",
    "\n",
    "message = mymodule.greet(\"Alice\")\n",
    "print(message)"
   ]
  },
  {
   "cell_type": "markdown",
   "metadata": {},
   "source": [
    "Pour exécuter main.py, assurez-vous que les deux fichiers (main.py et mymodule.py) sont dans le même répertoire, puis exécutez main.py. Le résultat sera \"Hello, Alice!\"."
   ]
  },
  {
   "cell_type": "markdown",
   "metadata": {},
   "source": [
    "### 12 - Async/Await (Asynchronous Programming)"
   ]
  },
  {
   "cell_type": "markdown",
   "metadata": {},
   "source": [
    " L'asynchronisme en Python est utilisé pour gérer les opérations qui peuvent prendre du temps sans bloquer l'exécution du programme. Les mots-clés async et await permettent d'écrire des fonctions asynchrones."
   ]
  },
  {
   "cell_type": "code",
   "execution_count": null,
   "metadata": {},
   "outputs": [],
   "source": [
    "import asyncio\n",
    "\n",
    "async def say_hello(name):\n",
    "    await asyncio.sleep(1)  # Simuler une opération longue (1 seconde)\n",
    "    return f\"Hello, {name}!\"\n",
    "\n",
    "async def main():\n",
    "    result1 = await say_hello(\"Alice\")\n",
    "    result2 = await say_hello(\"Bob\")\n",
    "    print(result1)\n",
    "    print(result2)\n",
    "\n",
    "if __name__ == \"__main__\":\n",
    "    asyncio.run(main())"
   ]
  },
  {
   "cell_type": "markdown",
   "metadata": {},
   "source": [
    "Dans cet exemple, la fonction say_hello est asynchrone grâce à l'utilisation de async et await. Lorsque vous exécutez le script, il affiche \"Hello, Alice!\" après une seconde, puis \"Hello, Bob!\" après une autre seconde, sans bloquer l'exécution du programme."
   ]
  }
 ],
 "metadata": {
  "kernelspec": {
   "display_name": "Python 3",
   "language": "python",
   "name": "python3"
  },
  "language_info": {
   "codemirror_mode": {
    "name": "ipython",
    "version": 3
   },
   "file_extension": ".py",
   "mimetype": "text/x-python",
   "name": "python",
   "nbconvert_exporter": "python",
   "pygments_lexer": "ipython3",
   "version": "3.10.8"
  }
 },
 "nbformat": 4,
 "nbformat_minor": 2
}
