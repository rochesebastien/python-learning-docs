{
 "cells": [
  {
   "cell_type": "markdown",
   "metadata": {},
   "source": [
    "# Python Learning - Niveau Débutant\n"
   ]
  },
  {
   "cell_type": "markdown",
   "metadata": {},
   "source": [
    "## Table des Matières \n",
    "\n",
    "- 1 - Mutable \n",
    "- 2 - Immutables\n",
    "---"
   ]
  },
  {
   "cell_type": "markdown",
   "metadata": {},
   "source": [
    "### 1 - Mutable"
   ]
  },
  {
   "cell_type": "markdown",
   "metadata": {},
   "source": [
    "Un objet mutable est ainsi un objet qui peut être modifié, dont on peut changer les propriétés une fois qu’il a été défini. Une erreur courante est de confondre modification et réassignation.  \n",
    "La différence est facile à comprendre avec les listes. Les listes sont des objets mutables : une fois la liste instanciée, il est par exempe possible d’y insérer de nouveaux éléments."
   ]
  },
  {
   "cell_type": "code",
   "execution_count": null,
   "metadata": {
    "vscode": {
     "languageId": "plaintext"
    }
   },
   "outputs": [],
   "source": [
    "values = [0, 1, 2]\n",
    "values.append(3)\n",
    "values"
   ]
  },
  {
   "cell_type": "markdown",
   "metadata": {},
   "source": [
    "Le fonctionnement des variables en Python fait qu’il est possible d’avoir plusieurs noms (étiquettes) sur une même valeur. Le principe de mutabilité s’observe alors très bien.\n",
    "Sans que nous n’ayons explicitement touché à othervalues, sa valeur a changé. En effet, values et othervalues référencent un même objet. Un même objet mutable."
   ]
  },
  {
   "cell_type": "code",
   "execution_count": null,
   "metadata": {
    "vscode": {
     "languageId": "plaintext"
    }
   },
   "outputs": [],
   "source": [
    "values = othervalues = [0, 1, 2]\n",
    "values.append(3)\n",
    "print(values)\n",
    "# [0, 1, 2, 3]\n",
    "print(othervalues)\n",
    "# [0, 1, 2, 3]"
   ]
  },
  {
   "cell_type": "markdown",
   "metadata": {},
   "source": [
    "### 2 - Immutables"
   ]
  },
  {
   "cell_type": "markdown",
   "metadata": {},
   "source": [
    "\n",
    "En revanche, la réassignation fait correspondre le nom de la variable à un nouvel objet, il n s’agit pas d’une modification de la valeur initiale."
   ]
  },
  {
   "cell_type": "code",
   "execution_count": null,
   "metadata": {
    "vscode": {
     "languageId": "plaintext"
    }
   },
   "outputs": [],
   "source": [
    "values = othervalues = [0, 1, 2]\n",
    "values = [0, 1, 2, 3] # réassignation de values\n",
    "print(values)\n",
    "# [0, 1, 2, 3]\n",
    "print(othervalues)\n",
    "# [0, 1, 2]"
   ]
  },
  {
   "cell_type": "markdown",
   "metadata": {},
   "source": [
    "En Python, les objets de type ```bool```, ```int```, ```str```, ```bytes```, ```tuple```, ```range``` et ```frozenset``` sont immutables. Tous les autres types, les listes, les dictionnaires, ou les instances de vos propres classes sont des objets mutables."
   ]
  }
 ],
 "metadata": {
  "kernelspec": {
   "display_name": "Python 3",
   "language": "python",
   "name": "python3"
  },
  "language_info": {
   "codemirror_mode": {
    "name": "ipython",
    "version": 3
   },
   "file_extension": ".py",
   "mimetype": "text/x-python",
   "name": "python",
   "nbconvert_exporter": "python",
   "pygments_lexer": "ipython3",
   "version": "3.11.0"
  },
  "orig_nbformat": 4
 },
 "nbformat": 4,
 "nbformat_minor": 2
}
